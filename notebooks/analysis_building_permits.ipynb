{
 "cells": [
  {
   "cell_type": "code",
   "execution_count": null,
   "metadata": {},
   "outputs": [],
   "source": [
    "import pandas as pd\n",
    "import numpy as np\n",
    "\n",
    "import matplotlib.pyplot as plt\n",
    "import seaborn as sns"
   ]
  },
  {
   "cell_type": "code",
   "execution_count": null,
   "metadata": {},
   "outputs": [],
   "source": [
    "df = pd.read_csv(\"../data/clean/building_permits_addition_alteration_clean.csv\")\n",
    "display(df.head(1))"
   ]
  },
  {
   "cell_type": "markdown",
   "metadata": {},
   "source": [
    "## Numerical Data Analysis"
   ]
  },
  {
   "cell_type": "code",
   "execution_count": null,
   "metadata": {},
   "outputs": [],
   "source": [
    "df_numerical = df.select_dtypes(include=\"number\")\n",
    "df_numerical"
   ]
  },
  {
   "cell_type": "code",
   "execution_count": null,
   "metadata": {},
   "outputs": [],
   "source": [
    "#creating correlation matrix\n",
    "\n",
    "corr=np.abs(df_numerical.corr()) # corr(x,y) = corr(y, x), corr(x,x) = 1\n",
    "\n",
    "#Set up mask for triangle representation\n",
    "mask = np.zeros_like(corr, dtype=bool)\n",
    "mask[np.triu_indices_from(mask)] = True\n",
    "\n",
    "# Set up the matplotlib figure\n",
    "f, ax = plt.subplots(figsize=(20, 20))\n",
    "# Generate a custom diverging colormap\n",
    "cmap = sns.diverging_palette(220, 10, as_cmap=True)\n",
    "# Draw the heatmap with the mask and correct aspect ratio\n",
    "sns.heatmap(corr, mask=mask,  vmax=1,square=True, linewidths=.5, cbar_kws={\"shrink\": .5},annot = corr)\n",
    "\n",
    "plt.show()"
   ]
  },
  {
   "cell_type": "markdown",
   "metadata": {},
   "source": [
    "### Costs"
   ]
  },
  {
   "cell_type": "code",
   "execution_count": null,
   "metadata": {},
   "outputs": [],
   "source": [
    "cost_columns = [col for col in df_numerical.columns if 'cost' in col.lower()]\n",
    "display(cost_columns)"
   ]
  },
  {
   "cell_type": "markdown",
   "metadata": {},
   "source": [
    "#### Costs distribution for the different subsystems"
   ]
  },
  {
   "cell_type": "code",
   "execution_count": null,
   "metadata": {},
   "outputs": [],
   "source": [
    "plt.figure(figsize=(15, 10))\n",
    "for i, col in enumerate(cost_columns):\n",
    "    plt.subplot(3, 3, i+1)\n",
    "    sns.histplot(df[col].dropna(), kde=True, log_scale=True) # Log scale due to skewness\n",
    "    plt.title(f'Distribution of {col}')\n",
    "    plt.tight_layout()\n",
    "plt.show()"
   ]
  },
  {
   "cell_type": "markdown",
   "metadata": {},
   "source": [
    "#### Comparison costs across different subsystems"
   ]
  },
  {
   "cell_type": "code",
   "execution_count": null,
   "metadata": {},
   "outputs": [],
   "source": [
    "plt.figure(figsize=(14, 8))\n",
    "cost_data = df[cost_columns].melt(var_name='Cost Type', value_name='Amount') # Melt the dataframe costs into one column\n",
    "sns.boxplot(x='Cost Type', y='Amount', data=cost_data)\n",
    "plt.yscale('log')  # Log scale for better visualization\n",
    "plt.title('Cost Comparison Across Different Subsystems')\n",
    "plt.xticks(rotation=45)\n",
    "plt.tight_layout()\n",
    "plt.show()"
   ]
  },
  {
   "cell_type": "markdown",
   "metadata": {},
   "source": [
    "#### Correlation matrix for costs"
   ]
  },
  {
   "cell_type": "code",
   "execution_count": null,
   "metadata": {},
   "outputs": [],
   "source": [
    "#creating correlation matrix\n",
    "\n",
    "corr=np.abs(df[cost_columns].corr()) # corr(x,y) = corr(y, x), corr(x,x) = 1\n",
    "\n",
    "#Set up mask for triangle representation\n",
    "mask = np.zeros_like(corr, dtype=bool)\n",
    "mask[np.triu_indices_from(mask)] = True\n",
    "\n",
    "# Set up the matplotlib figure\n",
    "f, ax = plt.subplots(figsize=(20, 20))\n",
    "# Generate a custom diverging colormap\n",
    "cmap = sns.diverging_palette(220, 10, as_cmap=True)\n",
    "# Draw the heatmap with the mask and correct aspect ratio\n",
    "sns.heatmap(corr, mask=mask,  vmax=1,square=True, linewidths=.5, cbar_kws={\"shrink\": .5},annot = corr)\n",
    "\n",
    "plt.show()"
   ]
  },
  {
   "cell_type": "markdown",
   "metadata": {},
   "source": [
    "#### Comparison Building Cost vs Total Cost"
   ]
  },
  {
   "cell_type": "code",
   "execution_count": null,
   "metadata": {},
   "outputs": [],
   "source": [
    "plt.figure(figsize=(10, 6))\n",
    "plt.scatter(df['building_cost'], df['calc_total_cost'], alpha=0.5)\n",
    "plt.xscale('log')\n",
    "plt.yscale('log')\n",
    "plt.xlabel('Building Cost ($)')\n",
    "plt.ylabel('Total Cost ($)')\n",
    "plt.title('Building Cost vs Total Cost')\n",
    "plt.tight_layout()\n",
    "plt.show()"
   ]
  },
  {
   "cell_type": "markdown",
   "metadata": {},
   "source": [
    "#### Test Pairplot Building Cost vs Total Cost"
   ]
  },
  {
   "cell_type": "code",
   "execution_count": null,
   "metadata": {},
   "outputs": [],
   "source": [
    "sns.pairplot(df[[\"calc_total_cost\", \"building_cost\", \"status\"]], hue='status')\n",
    "# plt.xscale('log')\n",
    "# plt.yscale('log')\n",
    "plt.show()"
   ]
  },
  {
   "cell_type": "markdown",
   "metadata": {},
   "source": [
    "#### Total Cost by Number of Units"
   ]
  },
  {
   "cell_type": "code",
   "execution_count": null,
   "metadata": {},
   "outputs": [],
   "source": [
    "units_filter = df[(df['number_of_units'] <= 10)] # Filter number of units for visualization\n",
    "plt.figure(figsize=(12, 6))\n",
    "sns.boxplot(x='number_of_units', y='calc_total_cost', data=units_filter)\n",
    "plt.title('Total Cost by Number of Units')\n",
    "plt.yscale('log')\n",
    "plt.tight_layout()\n",
    "plt.show()"
   ]
  },
  {
   "cell_type": "markdown",
   "metadata": {},
   "source": [
    "#### Average costs by year"
   ]
  },
  {
   "cell_type": "code",
   "execution_count": null,
   "metadata": {},
   "outputs": [],
   "source": [
    "yearly_costs = df.groupby('issue_year')[cost_columns].mean()\n",
    "\n",
    "plt.figure(figsize=(16, 8))\n",
    "yearly_costs.plot(marker='o')\n",
    "plt.title('Average Costs by Year')\n",
    "plt.ylabel('Cost ($)')\n",
    "plt.grid(True)\n",
    "plt.legend(loc='upper left', bbox_to_anchor=(1, 0.5))\n",
    "plt.tight_layout()\n",
    "plt.show()"
   ]
  },
  {
   "cell_type": "markdown",
   "metadata": {},
   "source": [
    "#### Number of Permits by Year"
   ]
  },
  {
   "cell_type": "code",
   "execution_count": null,
   "metadata": {},
   "outputs": [],
   "source": [
    "permits_by_year = df.groupby('issue_year').size()\n",
    "    \n",
    "plt.figure(figsize=(10, 6))\n",
    "permits_by_year.plot(kind='bar')\n",
    "plt.title('Number of Permits by Year')\n",
    "plt.xlabel('Year')\n",
    "plt.ylabel('Count')\n",
    "plt.grid(True, axis='y')\n",
    "plt.tight_layout()\n",
    "plt.show()"
   ]
  },
  {
   "cell_type": "code",
   "execution_count": null,
   "metadata": {},
   "outputs": [],
   "source": [
    "df"
   ]
  },
  {
   "cell_type": "markdown",
   "metadata": {},
   "source": [
    "#### Monthly average costs"
   ]
  },
  {
   "cell_type": "code",
   "execution_count": null,
   "metadata": {},
   "outputs": [],
   "source": [
    "\n",
    "monthly_costs = df.groupby('issue_month')['calc_total_cost'].mean()#.tail(48)\n",
    "\n",
    "plt.figure(figsize=(14, 6))\n",
    "monthly_costs.plot(kind='line', marker='o')\n",
    "plt.title('Average Total Cost by Month')\n",
    "plt.xlabel('Year-Month')\n",
    "plt.ylabel('Average Total Cost ($)')\n",
    "plt.grid(True)\n",
    "# plt.xticks(rotation=45)\n",
    "plt.tight_layout()\n"
   ]
  },
  {
   "cell_type": "markdown",
   "metadata": {},
   "source": [
    "#### Total Cost by Permit Status"
   ]
  },
  {
   "cell_type": "code",
   "execution_count": null,
   "metadata": {},
   "outputs": [],
   "source": [
    "plt.figure(figsize=(12, 6))\n",
    "sns.boxplot(x='status', y='calc_total_cost', data=df)\n",
    "plt.title('Total Cost by Permit Status')\n",
    "plt.yscale('log')\n",
    "plt.xticks(rotation=45)\n",
    "plt.tight_layout()\n",
    "plt.show()"
   ]
  },
  {
   "cell_type": "markdown",
   "metadata": {},
   "source": [
    "## Categorical Data Analysis"
   ]
  },
  {
   "cell_type": "code",
   "execution_count": null,
   "metadata": {},
   "outputs": [],
   "source": [
    "columns = df.select_dtypes(exclude=\"number\").columns\n",
    "\n",
    "for column in columns:\n",
    "    if df[column][0] != False:\n",
    "        print(\"Column:\", column, \"| Unique Values:\", df[column].nunique())\n",
    "        display(df[column].unique())\n",
    "        print(\"-------------------------\")"
   ]
  },
  {
   "cell_type": "markdown",
   "metadata": {},
   "source": [
    "### status"
   ]
  },
  {
   "cell_type": "code",
   "execution_count": null,
   "metadata": {},
   "outputs": [],
   "source": [
    "plt.figure(figsize=(10, 6))\n",
    "status_counts = df['status'].value_counts()\n",
    "status_counts.plot(kind='bar')\n",
    "plt.title('Distribution of Permit Status')\n",
    "plt.xlabel('Status')\n",
    "plt.ylabel('Count')\n",
    "plt.xticks(rotation=45)\n",
    "plt.grid(True, axis='y')\n",
    "plt.tight_layout()\n",
    "plt.show()"
   ]
  },
  {
   "cell_type": "markdown",
   "metadata": {},
   "source": [
    "### building_use"
   ]
  },
  {
   "cell_type": "code",
   "execution_count": null,
   "metadata": {},
   "outputs": [],
   "source": [
    "df.groupby([\"building_use\"]).agg(n=('record_number', 'count'), total_cost_avg=(\"building_cost\", \"max\")) \\\n",
    "    # .sort_values(by='record_number', ascending=False)\n",
    "\n"
   ]
  },
  {
   "cell_type": "code",
   "execution_count": null,
   "metadata": {},
   "outputs": [],
   "source": [
    "df \\\n",
    "    .groupby([\"current_property_use\"]) \\\n",
    "    .agg('count') \\\n",
    "    # .sort_values(by='current_property_use', ascending=False)"
   ]
  },
  {
   "cell_type": "code",
   "execution_count": null,
   "metadata": {},
   "outputs": [],
   "source": [
    "df \\\n",
    "    .groupby([\"current_property_use\", \"building_use\"]) \\\n",
    "    .agg('count') \\\n",
    "    .sort_values(by='current_property_use', ascending=False)"
   ]
  },
  {
   "cell_type": "markdown",
   "metadata": {},
   "source": [
    "#### Average Total Cost by Building Use"
   ]
  },
  {
   "cell_type": "code",
   "execution_count": null,
   "metadata": {},
   "outputs": [],
   "source": [
    "avg_cost_by_use = df.groupby('building_use')['calc_total_cost'].mean().sort_values(ascending=False)\n",
    "    \n",
    "plt.figure(figsize=(12, 6))\n",
    "avg_cost_by_use.plot(kind='bar')\n",
    "plt.title('Average Total Cost by Building Use')\n",
    "plt.xlabel('Building Use')\n",
    "plt.ylabel('Average Total Cost ($)')\n",
    "plt.xticks(rotation=45, ha='right')\n",
    "plt.grid(True, axis='y')\n",
    "plt.tight_layout()\n",
    "plt.show()"
   ]
  },
  {
   "cell_type": "markdown",
   "metadata": {},
   "source": [
    "### Boolean cases"
   ]
  },
  {
   "cell_type": "markdown",
   "metadata": {},
   "source": [
    "#### Percentage of Trues for Boolean features"
   ]
  },
  {
   "cell_type": "code",
   "execution_count": null,
   "metadata": {},
   "outputs": [],
   "source": [
    "boolean_columns = df.select_dtypes(include=['bool']).columns\n",
    "\n",
    "# Calculate percentage of True values for each boolean column\n",
    "bool_percentages = df[boolean_columns].mean() * 100\n",
    "\n",
    "plt.figure(figsize=(12, 8))\n",
    "bool_percentages.sort_values().plot(kind='barh')\n",
    "plt.title('Percentage of True Values in Boolean Features')\n",
    "plt.xlabel('Percentage (%)')\n",
    "plt.grid(True, axis='x')\n",
    "plt.tight_layout()\n",
    "plt.show()"
   ]
  },
  {
   "cell_type": "markdown",
   "metadata": {},
   "source": [
    "#### Incidence of Trues in Total Cost"
   ]
  },
  {
   "cell_type": "code",
   "execution_count": null,
   "metadata": {},
   "outputs": [],
   "source": [
    "plt.figure(figsize=(15, 10))\n",
    "for i, col in enumerate(boolean_columns):\n",
    "        plt.subplot(3, 4, i+1)\n",
    "        sns.boxplot(x=col, y='calc_total_cost', data=df)\n",
    "        plt.title(f'{col}')\n",
    "        plt.yscale('log')\n",
    "plt.tight_layout()\n",
    "plt.show()"
   ]
  },
  {
   "cell_type": "markdown",
   "metadata": {},
   "source": [
    "### building_construction_types"
   ]
  },
  {
   "cell_type": "code",
   "execution_count": null,
   "metadata": {},
   "outputs": [],
   "source": [
    "custom_order = df['building_construction_type'].unique()"
   ]
  },
  {
   "cell_type": "code",
   "execution_count": null,
   "metadata": {},
   "outputs": [],
   "source": [
    "type_counts = df['building_construction_type'].value_counts()\n",
    "ordered_type_counts = type_counts.reindex(custom_order)\n",
    "    \n",
    "plt.figure(figsize=(12, 6))\n",
    "ordered_type_counts.plot(kind='bar')\n",
    "plt.title('Building Construction Types')\n",
    "plt.xlabel('Construction Type')\n",
    "plt.ylabel('Count')\n",
    "plt.xticks(rotation=0, ha='center')\n",
    "plt.grid(True, axis='y')\n",
    "plt.tight_layout()\n",
    "plt.show()"
   ]
  },
  {
   "cell_type": "markdown",
   "metadata": {},
   "source": [
    "#### Incidence of Building Construction Types in Total Cost"
   ]
  },
  {
   "cell_type": "code",
   "execution_count": null,
   "metadata": {},
   "outputs": [],
   "source": [
    "plt.figure(figsize=(12, 6))\n",
    "sns.boxplot(x='building_construction_type', y='calc_total_cost', \n",
    "            data=df[df['building_construction_type'].isin(type_counts.index)],\n",
    "            order=custom_order)\n",
    "plt.title('Total Cost by Building Construction Type')\n",
    "plt.xlabel('Construction Type')\n",
    "plt.ylabel('Total Cost ($)')\n",
    "plt.yscale('log')\n",
    "plt.xticks(rotation=0, ha='center')\n",
    "plt.tight_layout()\n",
    "plt.show()"
   ]
  }
 ],
 "metadata": {
  "kernelspec": {
   "display_name": ".venv",
   "language": "python",
   "name": "python3"
  },
  "language_info": {
   "codemirror_mode": {
    "name": "ipython",
    "version": 3
   },
   "file_extension": ".py",
   "mimetype": "text/x-python",
   "name": "python",
   "nbconvert_exporter": "python",
   "pygments_lexer": "ipython3",
   "version": "3.12.2"
  }
 },
 "nbformat": 4,
 "nbformat_minor": 2
}
