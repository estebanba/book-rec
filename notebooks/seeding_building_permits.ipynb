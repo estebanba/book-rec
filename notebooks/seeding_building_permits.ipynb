{
 "cells": [
  {
   "cell_type": "code",
   "execution_count": null,
   "metadata": {},
   "outputs": [],
   "source": [
    "import pandas as pd\n",
    "import numpy as np\n",
    "\n",
    "import pymysql\n",
    "from sqlalchemy import create_engine\n",
    "import getpass  # To get the password without showing the input\n",
    "\n",
    "from dotenv import load_dotenv\n",
    "import os\n",
    "\n",
    "load_dotenv()\n",
    "\n",
    "import functions as f\n",
    "\n",
    "# Access the environment variables from the .env file\n",
    "password = os.environ.get('DB_PASS')\n",
    "\n",
    "\n",
    "# Note that when you use _SQLAlchemy_ and establish the connection, you do not even need to be logged in Sequel Pro or MySQL Workbench."
   ]
  },
  {
   "cell_type": "markdown",
   "metadata": {},
   "source": [
    "## Connect to DB"
   ]
  },
  {
   "cell_type": "code",
   "execution_count": null,
   "metadata": {},
   "outputs": [],
   "source": [
    "# password = getpass.getpass()\n",
    "\n",
    "bd = \"building_permits\"\n",
    "connection_string = 'mysql+pymysql://root:' + password + '@localhost/'+bd\n",
    "engine = create_engine(connection_string)\n",
    "engine"
   ]
  },
  {
   "cell_type": "markdown",
   "metadata": {},
   "source": [
    "## Load Dataframe"
   ]
  },
  {
   "cell_type": "code",
   "execution_count": null,
   "metadata": {},
   "outputs": [],
   "source": [
    "df = pd.read_csv(\"../data/clean/building_permits_addition_alteration_clean.csv\")\n",
    "display(df.head(1))"
   ]
  },
  {
   "cell_type": "markdown",
   "metadata": {},
   "source": [
    "## Seed Data"
   ]
  },
  {
   "cell_type": "markdown",
   "metadata": {},
   "source": [
    "### building_construction_types"
   ]
  },
  {
   "cell_type": "code",
   "execution_count": null,
   "metadata": {},
   "outputs": [],
   "source": [
    "building_construction_types_unique = df[\"building_construction_type\"].unique()\n",
    "print(building_construction_types_unique)\n",
    "\n",
    "def assign_index(row):\n",
    "    return list(building_construction_types_unique).index(row[\"building_construction_type\"])\n",
    "\n",
    "df[\"building_construction_type_id\"] = df.apply(assign_index, axis=1)"
   ]
  },
  {
   "cell_type": "code",
   "execution_count": null,
   "metadata": {},
   "outputs": [],
   "source": [
    "building_construction_types_df = pd.DataFrame(df[[\"building_construction_type_id\", \"building_construction_type\"]])\n",
    "building_construction_types_df.drop_duplicates(inplace=True)\n",
    "building_construction_types_df.rename(columns={'building_construction_type_id': 'id', 'building_construction_type': 'type'}, inplace=True)\n",
    "building_construction_types_df"
   ]
  },
  {
   "cell_type": "code",
   "execution_count": null,
   "metadata": {},
   "outputs": [],
   "source": [
    "with engine.connect() as connection:\n",
    "    building_construction_types_df.to_sql(\"building_construction_type\", connection, index=False, if_exists=\"replace\")"
   ]
  },
  {
   "cell_type": "code",
   "execution_count": null,
   "metadata": {},
   "outputs": [],
   "source": [
    "df[\"building_construction_type\"] = df[\"building_construction_type_id\"]\n",
    "df.drop(\"building_construction_type_id\", axis=1, inplace=True)"
   ]
  },
  {
   "cell_type": "markdown",
   "metadata": {},
   "source": [
    "### Function to streamline preparing df for seeding"
   ]
  },
  {
   "cell_type": "code",
   "execution_count": null,
   "metadata": {},
   "outputs": [],
   "source": [
    "# def prepare_for_seeding(df, column, db_column):\n",
    "#     uniques = df[column].unique()\n",
    "#     print(f\"Unique values for {column}:\", uniques)\n",
    "\n",
    "#     def assign_index(row):\n",
    "#         return list(uniques).index(row[column])\n",
    "\n",
    "#     df[f\"{column}_id\"] = df.apply(assign_index, axis=1)\n",
    "#     display(f\"{column}_id\", df[[f\"{column}_id\", column]])\n",
    "#     prepared_df = pd.DataFrame(df[[f\"{column}_id\", f\"{column}\"]])\n",
    "#     prepared_df.drop_duplicates(inplace=True)\n",
    "#     prepared_df.rename(columns={f\"{column}_id\": 'id', column: db_column}, inplace=True)\n",
    "        \n",
    "#     return df, prepared_df"
   ]
  },
  {
   "cell_type": "markdown",
   "metadata": {},
   "source": [
    "### building_use"
   ]
  },
  {
   "cell_type": "code",
   "execution_count": null,
   "metadata": {},
   "outputs": [],
   "source": [
    "df, building_use_df = f.prepare_for_seeding(df, \"building_use\", \"use\")"
   ]
  },
  {
   "cell_type": "code",
   "execution_count": null,
   "metadata": {},
   "outputs": [],
   "source": [
    "with engine.connect() as connection:\n",
    "    building_use_df.to_sql(\"building_use\", connection, index=False, if_exists=\"replace\")"
   ]
  },
  {
   "cell_type": "markdown",
   "metadata": {},
   "source": [
    "#### also for current_property_use"
   ]
  },
  {
   "cell_type": "code",
   "execution_count": null,
   "metadata": {},
   "outputs": [],
   "source": [
    "building_use_unique = df[\"building_use\"].unique()\n",
    "print(building_use_unique)\n",
    "\n",
    "def assign_index(row):\n",
    "    return list(building_use_unique).index(row[\"current_property_use\"])\n",
    "\n",
    "df[\"current_property_use_id\"] = df.apply(assign_index, axis=1)\n"
   ]
  },
  {
   "cell_type": "code",
   "execution_count": null,
   "metadata": {},
   "outputs": [],
   "source": [
    "df[\"building_use\"] = df[\"building_use_id\"]\n",
    "df.drop(\"building_use_id\", axis=1, inplace=True)"
   ]
  },
  {
   "cell_type": "code",
   "execution_count": null,
   "metadata": {},
   "outputs": [],
   "source": [
    "df[\"current_property_use\"] = df[\"current_property_use_id\"]\n",
    "df.drop(\"current_property_use_id\", axis=1, inplace=True)"
   ]
  },
  {
   "cell_type": "markdown",
   "metadata": {},
   "source": [
    "### season"
   ]
  },
  {
   "cell_type": "code",
   "execution_count": null,
   "metadata": {},
   "outputs": [],
   "source": [
    "df, season_df = f.prepare_for_seeding(df, \"season\", \"name\")"
   ]
  },
  {
   "cell_type": "code",
   "execution_count": null,
   "metadata": {},
   "outputs": [],
   "source": [
    "with engine.connect() as connection:\n",
    "    season_df.to_sql(\"season\", connection, index=False, if_exists=\"replace\")"
   ]
  },
  {
   "cell_type": "code",
   "execution_count": null,
   "metadata": {},
   "outputs": [],
   "source": [
    "df[\"season\"] = df[\"season_id\"]\n",
    "df.drop(\"season_id\", axis=1, inplace=True)"
   ]
  },
  {
   "cell_type": "markdown",
   "metadata": {},
   "source": [
    "### firm"
   ]
  },
  {
   "cell_type": "code",
   "execution_count": null,
   "metadata": {},
   "outputs": [],
   "source": [
    "df, firm_df = f.prepare_for_seeding(df, \"standardized_firm_name\", \"standardized_firm_name\")\n",
    "\n",
    "with engine.connect() as connection:\n",
    "    firm_df.to_sql(\"firm\", connection, index=False, if_exists=\"replace\")"
   ]
  },
  {
   "cell_type": "code",
   "execution_count": null,
   "metadata": {},
   "outputs": [],
   "source": [
    "df.columns"
   ]
  },
  {
   "cell_type": "code",
   "execution_count": null,
   "metadata": {},
   "outputs": [],
   "source": [
    "df[\"standardized_firm_name\"] = df[\"standardized_firm_name_id\"]\n",
    "df.drop(columns=[\"firm_name\", \"standardized_firm_name_id\", \"original_firm_name\"], inplace=True)"
   ]
  },
  {
   "cell_type": "markdown",
   "metadata": {},
   "source": [
    "### total_cost_bins"
   ]
  },
  {
   "cell_type": "code",
   "execution_count": null,
   "metadata": {},
   "outputs": [],
   "source": [
    "df, total_cost_bins_df = f.prepare_for_seeding(df, \"total_cost_bins\", \"bin_name\")\n",
    "\n",
    "with engine.connect() as connection:\n",
    "    total_cost_bins_df.to_sql(\"total_cost_bins\", connection, index=False, if_exists=\"replace\")"
   ]
  },
  {
   "cell_type": "code",
   "execution_count": null,
   "metadata": {},
   "outputs": [],
   "source": [
    "df[\"total_cost_bins\"] = df[\"total_cost_bins_id\"]\n",
    "df.drop(\"total_cost_bins_id\", axis=1, inplace=True)"
   ]
  },
  {
   "cell_type": "markdown",
   "metadata": {},
   "source": [
    "### costs"
   ]
  },
  {
   "cell_type": "code",
   "execution_count": null,
   "metadata": {},
   "outputs": [],
   "source": [
    "df_costs = df[[\n",
    "    \"record_number\",\n",
    "    \"building_cost\", \n",
    "    \"electrical_cost\", \n",
    "    \"plumbing_cost\",\n",
    "    \"gas_cost\",\n",
    "    \"hvac_cost\",\n",
    "    \"fire_prevention_cost\", \n",
    "    \"calc_total_cost\"\n",
    "]]\n",
    "\n",
    "with engine.connect() as connection:\n",
    "    df_costs.to_sql(\"costs\", connection, index=False, if_exists=\"replace\")\n",
    "\n",
    "df_costs"
   ]
  },
  {
   "cell_type": "code",
   "execution_count": null,
   "metadata": {},
   "outputs": [],
   "source": [
    "df.drop(columns=[\n",
    "    \"building_cost\", \n",
    "    \"electrical_cost\", \n",
    "    \"plumbing_cost\",\n",
    "    \"gas_cost\",\n",
    "    \"hvac_cost\",\n",
    "    \"fire_prevention_cost\", \n",
    "    \"calc_total_cost\"\n",
    "    ], inplace=True)\n",
    "\n",
    "df"
   ]
  },
  {
   "cell_type": "markdown",
   "metadata": {},
   "source": [
    "### property"
   ]
  },
  {
   "cell_type": "code",
   "execution_count": null,
   "metadata": {},
   "outputs": [],
   "source": [
    "# df_property = df[[\"record_number\", \"address\", \"latitude\", \"longitude\"]]\n",
    "\n",
    "# df_property.duplicated(subset=\"address\").value_counts()"
   ]
  },
  {
   "cell_type": "code",
   "execution_count": null,
   "metadata": {},
   "outputs": [],
   "source": [
    "property_unique = df[\"address\"].unique()\n",
    "print(\"Unique properties:\", df[\"address\"].nunique())\n",
    "\n",
    "def assign_index(row):\n",
    "    return list(property_unique).index(row[\"address\"])\n",
    "\n",
    "df[\"property\"] = df.apply(assign_index, axis=1)\n",
    "\n",
    "property_df = pd.DataFrame(df[[\"property\", \"address\", \"latitude\", \"longitude\"]])\n",
    "property_df.drop_duplicates(inplace=True)\n",
    "property_df.rename(columns={'property': 'id'}, inplace=True)\n",
    "property_df"
   ]
  },
  {
   "cell_type": "code",
   "execution_count": null,
   "metadata": {},
   "outputs": [],
   "source": [
    "with engine.connect() as connection:\n",
    "    property_df.to_sql(\"property\", connection, index=False, if_exists=\"replace\")"
   ]
  },
  {
   "cell_type": "code",
   "execution_count": null,
   "metadata": {},
   "outputs": [],
   "source": [
    "df_property = df[[\n",
    "    \"record_number\",\n",
    "    \"address\", \n",
    "    \"latitude\", \n",
    "    \"longitude\"\n",
    "]]\n",
    "\n",
    "df.drop(columns=[\n",
    "    \"address\", \n",
    "    \"latitude\", \n",
    "    \"longitude\"\n",
    "    ], inplace=True)\n",
    "\n",
    "df"
   ]
  },
  {
   "cell_type": "markdown",
   "metadata": {},
   "source": [
    "### status"
   ]
  },
  {
   "cell_type": "code",
   "execution_count": null,
   "metadata": {},
   "outputs": [],
   "source": [
    "df, df_status = f.prepare_for_seeding(df, \"status\", \"value\")\n",
    "\n",
    "with engine.connect() as connection:\n",
    "    df_status.to_sql(\"status\", connection, index=False, if_exists=\"replace\")"
   ]
  },
  {
   "cell_type": "code",
   "execution_count": null,
   "metadata": {},
   "outputs": [],
   "source": [
    "df[\"status\"] = df[\"status_id\"]\n",
    "df.drop(\"status_id\", axis=1, inplace=True)"
   ]
  },
  {
   "cell_type": "markdown",
   "metadata": {},
   "source": [
    "### keywords"
   ]
  },
  {
   "cell_type": "code",
   "execution_count": null,
   "metadata": {},
   "outputs": [],
   "source": [
    "df_keyword_data = pd.read_csv(\"../data/clean/keyword_data.csv\")\n",
    "df_keyword_data"
   ]
  },
  {
   "cell_type": "code",
   "execution_count": null,
   "metadata": {},
   "outputs": [],
   "source": [
    "df_unique_keywords = pd.read_csv(\"../data/clean/unique_keywords.csv\")\n",
    "df_unique_keywords"
   ]
  },
  {
   "cell_type": "code",
   "execution_count": null,
   "metadata": {},
   "outputs": [],
   "source": [
    "df_unique_keywords.reset_index(inplace=True)\n",
    "df_unique_keywords.rename(columns={\"index\": \"keyword_id\"}, inplace=True)"
   ]
  },
  {
   "cell_type": "code",
   "execution_count": null,
   "metadata": {},
   "outputs": [],
   "source": [
    "\n",
    "df_keyword_merged = df_keyword_data.merge(df_unique_keywords[[\"keyword_id\", \"keyword\"]], on=\"keyword\")\n",
    "df_keyword_merged"
   ]
  },
  {
   "cell_type": "code",
   "execution_count": null,
   "metadata": {},
   "outputs": [],
   "source": [
    "df_keyword_sql = df_keyword_merged[[\"record_number\", \"keyword_id\", \"frequency\"]]\n",
    "\n",
    "with engine.connect() as connection:\n",
    "    df_keyword_sql.to_sql(\"record_keyword\", connection, if_exists=\"replace\")"
   ]
  },
  {
   "cell_type": "code",
   "execution_count": null,
   "metadata": {},
   "outputs": [],
   "source": [
    "df_unique_keywords.rename(columns={'keyword_id': 'id'}, inplace=True)\n",
    "\n",
    "with engine.connect() as connection:\n",
    "    df_unique_keywords.to_sql(\"keyword\", connection, index=False, if_exists=\"replace\")"
   ]
  },
  {
   "cell_type": "markdown",
   "metadata": {},
   "source": [
    "### Main Dataframe (record)"
   ]
  },
  {
   "cell_type": "code",
   "execution_count": null,
   "metadata": {},
   "outputs": [],
   "source": [
    "# df_merged = df.merge(df_keyword_sql[[\"record_number\", \"keyword_id\"]], on=\"record_number\")"
   ]
  },
  {
   "cell_type": "code",
   "execution_count": null,
   "metadata": {},
   "outputs": [],
   "source": [
    "df.columns"
   ]
  },
  {
   "cell_type": "code",
   "execution_count": null,
   "metadata": {},
   "outputs": [],
   "source": [
    "df.drop(columns=[\n",
    "    'keywords',\n",
    "    ], inplace=True)"
   ]
  },
  {
   "cell_type": "code",
   "execution_count": null,
   "metadata": {},
   "outputs": [],
   "source": [
    "with engine.connect() as connection:\n",
    "    df.to_sql(\"record\", connection, index=False, if_exists=\"replace\")"
   ]
  }
 ],
 "metadata": {
  "kernelspec": {
   "display_name": ".venv",
   "language": "python",
   "name": "python3"
  },
  "language_info": {
   "codemirror_mode": {
    "name": "ipython",
    "version": 3
   },
   "file_extension": ".py",
   "mimetype": "text/x-python",
   "name": "python",
   "nbconvert_exporter": "python",
   "pygments_lexer": "ipython3",
   "version": "3.12.2"
  }
 },
 "nbformat": 4,
 "nbformat_minor": 2
}
