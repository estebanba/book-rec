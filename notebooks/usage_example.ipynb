{
 "cells": [
  {
   "cell_type": "markdown",
   "metadata": {},
   "source": [
    "# Company Name Cleaning Example\n",
    "This notebook demonstrates how to use the company_name_cleaner.py script to standardize firm names in your dataset."
   ]
  },
  {
   "cell_type": "code",
   "execution_count": null,
   "metadata": {},
   "outputs": [],
   "source": [
    "# Import the function from the script file\n",
    "from company_name_cleaner import clean_firm_names\n",
    "\n",
    "# Import pandas for data handling\n",
    "import pandas as pd"
   ]
  },
  {
   "cell_type": "markdown",
   "metadata": {},
   "source": [
    "## Sample Data\n",
    "Let's create some sample data to demonstrate the cleaning process"
   ]
  },
  {
   "cell_type": "code",
   "execution_count": null,
   "metadata": {},
   "outputs": [],
   "source": [
    "# Create sample data with firm names\n",
    "data = {\n",
    "    'firm_name': [\n",
    "        'Microsoft Corporation',\n",
    "        'MICROSOFT CORP.',\n",
    "        'Microsoft Inc',\n",
    "        'MicroSoft',\n",
    "        'Apple Inc.',\n",
    "        'Appl Inc',\n",
    "        'APPLE',\n",
    "        'Google LLC',\n",
    "        'Alphabet Inc (Google)',\n",
    "        'Google',\n",
    "        'Amazon.com, Inc.',\n",
    "        'amazon',\n",
    "        'AMZN',\n",
    "        'International Business Machines',\n",
    "        'IBM Corporation',\n",
    "        'I.B.M.'\n",
    "    ]\n",
    "}\n",
    "\n",
    "# Create a DataFrame\n",
    "df = pd.DataFrame(data)\n",
    "\n",
    "# Display the original data\n",
    "print(\"Original DataFrame:\")\n",
    "df"
   ]
  },
  {
   "cell_type": "markdown",
   "metadata": {},
   "source": [
    "## Clean the Firm Names\n",
    "Now let's use our cleaning function to standardize the firm names"
   ]
  },
  {
   "cell_type": "code",
   "execution_count": null,
   "metadata": {},
   "outputs": [],
   "source": [
    "# Clean the firm names with default settings (threshold=80)\n",
    "cleaned_df = clean_firm_names(df)\n",
    "\n",
    "# Display the cleaned data\n",
    "print(\"Cleaned DataFrame:\")\n",
    "cleaned_df[['original_firm_name', 'firm_name', 'standardized_firm_name']]"
   ]
  },
  {
   "cell_type": "markdown",
   "metadata": {},
   "source": [
    "## Adjusting the Threshold\n",
    "We can adjust the similarity threshold to control how aggressively names are merged"
   ]
  },
  {
   "cell_type": "code",
   "execution_count": null,
   "metadata": {},
   "outputs": [],
   "source": [
    "# Try with a higher threshold (more conservative matching)\n",
    "cleaned_df_strict = clean_firm_names(df, threshold=90)\n",
    "\n",
    "# Display the results\n",
    "print(\"Cleaned DataFrame with higher threshold (90):\")\n",
    "cleaned_df_strict[['original_firm_name', 'firm_name', 'standardized_firm_name']]"
   ]
  },
  {
   "cell_type": "code",
   "execution_count": null,
   "metadata": {},
   "outputs": [],
   "source": [
    "# Try with a lower threshold (more aggressive matching)\n",
    "cleaned_df_loose = clean_firm_names(df, threshold=70)\n",
    "\n",
    "# Display the results\n",
    "print(\"Cleaned DataFrame with lower threshold (70):\")\n",
    "cleaned_df_loose[['original_firm_name', 'firm_name', 'standardized_firm_name']]"
   ]
  },
  {
   "cell_type": "markdown",
   "metadata": {},
   "source": [
    "## Using With Your Own Data\n",
    "You can use this with your own dataset by loading it from a CSV file"
   ]
  },
  {
   "cell_type": "code",
   "execution_count": null,
   "metadata": {},
   "outputs": [],
   "source": [
    "# Uncomment and modify these lines to use with your own data\n",
    "# your_df = pd.read_csv('your_data.csv')\n",
    "# \n",
    "# # If your column has a different name, specify it\n",
    "# cleaned_your_df = clean_firm_names(your_df, column_name='your_column_name')\n",
    "# \n",
    "# # Save the results\n",
    "# cleaned_your_df.to_csv('cleaned_data.csv', index=False)"
   ]
  }
 ],
 "metadata": {
  "kernelspec": {
   "display_name": ".venv",
   "language": "python",
   "name": "python3"
  },
  "language_info": {
   "codemirror_mode": {
    "name": "ipython",
    "version": 3
   },
   "file_extension": ".py",
   "mimetype": "text/x-python",
   "name": "python",
   "nbconvert_exporter": "python",
   "pygments_lexer": "ipython3",
   "version": "3.12.2"
  }
 },
 "nbformat": 4,
 "nbformat_minor": 4
}
